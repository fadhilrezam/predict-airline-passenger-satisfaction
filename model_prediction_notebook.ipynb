{
 "cells": [
  {
   "cell_type": "markdown",
   "metadata": {},
   "source": [
    "## Introduction\n",
    "\n",
    "`Nama: Fadhil Reza Maulana`\n"
   ]
  },
  {
   "cell_type": "markdown",
   "metadata": {},
   "source": [
    "## Description\n",
    "\n",
    "    Dataset yang akan di gunakan dalam pengerjaan Milestone 2 ini adalah dataset mengenai 'Airline Passenger Satisfaction', dimana berisikan data survey dari beberapa pengguna maskapai penerbangan terkait faktor apa saja yang menandakan kepuasan mereka masing-masing.\n",
    "\n",
    "### Objective\n",
    "\n",
    "    Tujuan dari pengerjaan Milestone 2 ini adalah untuk membuat suatu model yang mampu memprediksi bagaimana tingkat kepuasan seorang pengguna maskapai (satisfied atau dissatisfied/netral) berdasarkan beberapa data input yang mereka berikan.\n",
    "    \n",
    "### Problem Statement\n",
    "\n",
    "    Dalam pembuatan model akan di lakukan percobaan terhadap beberapa algoritma Supervised Learning Classification seperti Logistic Classification, Decision Tree, Random Forest Classification, dan dari hasil evaluasi terhadap model-model tersebut akan di ambil satu model yang akan menjadi base model yang nantinya akan dilakukan hyperparameter tuning terhadap model tersebut."
   ]
  },
  {
   "cell_type": "markdown",
   "metadata": {},
   "source": [
    "## Working Area"
   ]
  },
  {
   "cell_type": "markdown",
   "metadata": {},
   "source": [
    "## Import Library"
   ]
  },
  {
   "cell_type": "code",
   "execution_count": 1,
   "metadata": {},
   "outputs": [],
   "source": [
    "import pandas as pd\n",
    "import numpy as np\n",
    "import matplotlib.pyplot as plt\n",
    "import seaborn as sns\n",
    "from sklearn.model_selection import train_test_split\n",
    "from feature_engine.outliers import Winsorizer\n",
    "from sklearn.preprocessing import MinMaxScaler, StandardScaler\n",
    "import category_encoders as ce\n",
    "from sklearn.ensemble import RandomForestClassifier, GradientBoostingClassifier\n",
    "from sklearn.pipeline import Pipeline\n",
    "from sklearn.linear_model import LogisticRegression\n",
    "from sklearn.tree import DecisionTreeClassifier\n",
    "from sklearn.ensemble import RandomForestClassifier\n",
    "from sklearn.naive_bayes import GaussianNB\n",
    "from sklearn.metrics import classification_report\n",
    "from sklearn.model_selection import cross_val_score\n",
    "\n",
    "import pickle\n",
    "\n",
    "import warnings\n",
    "warnings.filterwarnings('ignore')"
   ]
  },
  {
   "cell_type": "markdown",
   "metadata": {},
   "source": [
    "## Load Dataset"
   ]
  },
  {
   "cell_type": "markdown",
   "metadata": {},
   "source": [
    "**Load Data Train dan Test**\n",
    "\n",
    "1. train = data train\n",
    "2. test = data test"
   ]
  },
  {
   "cell_type": "code",
   "execution_count": 2,
   "metadata": {},
   "outputs": [],
   "source": [
    "pd.set_option('display.max_columns', None)\n",
    "train = pd.read_csv('train.csv')\n",
    "test = pd.read_csv('test.csv')"
   ]
  },
  {
   "cell_type": "markdown",
   "metadata": {},
   "source": [
    "## Exploratory Data Analysis (EDA)"
   ]
  },
  {
   "cell_type": "markdown",
   "metadata": {},
   "source": [
    "### Pengecekan Duplikasi Data"
   ]
  },
  {
   "cell_type": "code",
   "execution_count": 3,
   "metadata": {},
   "outputs": [
    {
     "data": {
      "text/plain": [
       "(0, 0)"
      ]
     },
     "execution_count": 3,
     "metadata": {},
     "output_type": "execute_result"
    }
   ],
   "source": [
    "train.duplicated().sum(), test.duplicated().sum()"
   ]
  },
  {
   "cell_type": "markdown",
   "metadata": {},
   "source": [
    "Tidak ada data yang terduplicate baik untuk data train dan test"
   ]
  },
  {
   "cell_type": "markdown",
   "metadata": {},
   "source": [
    "### First Look Dataset Train dan Test"
   ]
  },
  {
   "cell_type": "code",
   "execution_count": 4,
   "metadata": {},
   "outputs": [
    {
     "data": {
      "text/html": [
       "<div>\n",
       "<style scoped>\n",
       "    .dataframe tbody tr th:only-of-type {\n",
       "        vertical-align: middle;\n",
       "    }\n",
       "\n",
       "    .dataframe tbody tr th {\n",
       "        vertical-align: top;\n",
       "    }\n",
       "\n",
       "    .dataframe thead th {\n",
       "        text-align: right;\n",
       "    }\n",
       "</style>\n",
       "<table border=\"1\" class=\"dataframe\">\n",
       "  <thead>\n",
       "    <tr style=\"text-align: right;\">\n",
       "      <th></th>\n",
       "      <th>Unnamed: 0</th>\n",
       "      <th>id</th>\n",
       "      <th>Gender</th>\n",
       "      <th>Customer Type</th>\n",
       "      <th>Age</th>\n",
       "      <th>Type of Travel</th>\n",
       "      <th>Class</th>\n",
       "      <th>Flight Distance</th>\n",
       "      <th>Inflight wifi service</th>\n",
       "      <th>Departure/Arrival time convenient</th>\n",
       "      <th>Ease of Online booking</th>\n",
       "      <th>Gate location</th>\n",
       "      <th>Food and drink</th>\n",
       "      <th>Online boarding</th>\n",
       "      <th>Seat comfort</th>\n",
       "      <th>Inflight entertainment</th>\n",
       "      <th>On-board service</th>\n",
       "      <th>Leg room service</th>\n",
       "      <th>Baggage handling</th>\n",
       "      <th>Checkin service</th>\n",
       "      <th>Inflight service</th>\n",
       "      <th>Cleanliness</th>\n",
       "      <th>Departure Delay in Minutes</th>\n",
       "      <th>Arrival Delay in Minutes</th>\n",
       "      <th>satisfaction</th>\n",
       "    </tr>\n",
       "  </thead>\n",
       "  <tbody>\n",
       "    <tr>\n",
       "      <th>0</th>\n",
       "      <td>0</td>\n",
       "      <td>70172</td>\n",
       "      <td>Male</td>\n",
       "      <td>Loyal Customer</td>\n",
       "      <td>13</td>\n",
       "      <td>Personal Travel</td>\n",
       "      <td>Eco Plus</td>\n",
       "      <td>460</td>\n",
       "      <td>3</td>\n",
       "      <td>4</td>\n",
       "      <td>3</td>\n",
       "      <td>1</td>\n",
       "      <td>5</td>\n",
       "      <td>3</td>\n",
       "      <td>5</td>\n",
       "      <td>5</td>\n",
       "      <td>4</td>\n",
       "      <td>3</td>\n",
       "      <td>4</td>\n",
       "      <td>4</td>\n",
       "      <td>5</td>\n",
       "      <td>5</td>\n",
       "      <td>25</td>\n",
       "      <td>18.0</td>\n",
       "      <td>neutral or dissatisfied</td>\n",
       "    </tr>\n",
       "    <tr>\n",
       "      <th>1</th>\n",
       "      <td>1</td>\n",
       "      <td>5047</td>\n",
       "      <td>Male</td>\n",
       "      <td>disloyal Customer</td>\n",
       "      <td>25</td>\n",
       "      <td>Business travel</td>\n",
       "      <td>Business</td>\n",
       "      <td>235</td>\n",
       "      <td>3</td>\n",
       "      <td>2</td>\n",
       "      <td>3</td>\n",
       "      <td>3</td>\n",
       "      <td>1</td>\n",
       "      <td>3</td>\n",
       "      <td>1</td>\n",
       "      <td>1</td>\n",
       "      <td>1</td>\n",
       "      <td>5</td>\n",
       "      <td>3</td>\n",
       "      <td>1</td>\n",
       "      <td>4</td>\n",
       "      <td>1</td>\n",
       "      <td>1</td>\n",
       "      <td>6.0</td>\n",
       "      <td>neutral or dissatisfied</td>\n",
       "    </tr>\n",
       "    <tr>\n",
       "      <th>2</th>\n",
       "      <td>2</td>\n",
       "      <td>110028</td>\n",
       "      <td>Female</td>\n",
       "      <td>Loyal Customer</td>\n",
       "      <td>26</td>\n",
       "      <td>Business travel</td>\n",
       "      <td>Business</td>\n",
       "      <td>1142</td>\n",
       "      <td>2</td>\n",
       "      <td>2</td>\n",
       "      <td>2</td>\n",
       "      <td>2</td>\n",
       "      <td>5</td>\n",
       "      <td>5</td>\n",
       "      <td>5</td>\n",
       "      <td>5</td>\n",
       "      <td>4</td>\n",
       "      <td>3</td>\n",
       "      <td>4</td>\n",
       "      <td>4</td>\n",
       "      <td>4</td>\n",
       "      <td>5</td>\n",
       "      <td>0</td>\n",
       "      <td>0.0</td>\n",
       "      <td>satisfied</td>\n",
       "    </tr>\n",
       "    <tr>\n",
       "      <th>3</th>\n",
       "      <td>3</td>\n",
       "      <td>24026</td>\n",
       "      <td>Female</td>\n",
       "      <td>Loyal Customer</td>\n",
       "      <td>25</td>\n",
       "      <td>Business travel</td>\n",
       "      <td>Business</td>\n",
       "      <td>562</td>\n",
       "      <td>2</td>\n",
       "      <td>5</td>\n",
       "      <td>5</td>\n",
       "      <td>5</td>\n",
       "      <td>2</td>\n",
       "      <td>2</td>\n",
       "      <td>2</td>\n",
       "      <td>2</td>\n",
       "      <td>2</td>\n",
       "      <td>5</td>\n",
       "      <td>3</td>\n",
       "      <td>1</td>\n",
       "      <td>4</td>\n",
       "      <td>2</td>\n",
       "      <td>11</td>\n",
       "      <td>9.0</td>\n",
       "      <td>neutral or dissatisfied</td>\n",
       "    </tr>\n",
       "    <tr>\n",
       "      <th>4</th>\n",
       "      <td>4</td>\n",
       "      <td>119299</td>\n",
       "      <td>Male</td>\n",
       "      <td>Loyal Customer</td>\n",
       "      <td>61</td>\n",
       "      <td>Business travel</td>\n",
       "      <td>Business</td>\n",
       "      <td>214</td>\n",
       "      <td>3</td>\n",
       "      <td>3</td>\n",
       "      <td>3</td>\n",
       "      <td>3</td>\n",
       "      <td>4</td>\n",
       "      <td>5</td>\n",
       "      <td>5</td>\n",
       "      <td>3</td>\n",
       "      <td>3</td>\n",
       "      <td>4</td>\n",
       "      <td>4</td>\n",
       "      <td>3</td>\n",
       "      <td>3</td>\n",
       "      <td>3</td>\n",
       "      <td>0</td>\n",
       "      <td>0.0</td>\n",
       "      <td>satisfied</td>\n",
       "    </tr>\n",
       "  </tbody>\n",
       "</table>\n",
       "</div>"
      ],
      "text/plain": [
       "   Unnamed: 0      id  Gender      Customer Type  Age   Type of Travel  \\\n",
       "0           0   70172    Male     Loyal Customer   13  Personal Travel   \n",
       "1           1    5047    Male  disloyal Customer   25  Business travel   \n",
       "2           2  110028  Female     Loyal Customer   26  Business travel   \n",
       "3           3   24026  Female     Loyal Customer   25  Business travel   \n",
       "4           4  119299    Male     Loyal Customer   61  Business travel   \n",
       "\n",
       "      Class  Flight Distance  Inflight wifi service  \\\n",
       "0  Eco Plus              460                      3   \n",
       "1  Business              235                      3   \n",
       "2  Business             1142                      2   \n",
       "3  Business              562                      2   \n",
       "4  Business              214                      3   \n",
       "\n",
       "   Departure/Arrival time convenient  Ease of Online booking  Gate location  \\\n",
       "0                                  4                       3              1   \n",
       "1                                  2                       3              3   \n",
       "2                                  2                       2              2   \n",
       "3                                  5                       5              5   \n",
       "4                                  3                       3              3   \n",
       "\n",
       "   Food and drink  Online boarding  Seat comfort  Inflight entertainment  \\\n",
       "0               5                3             5                       5   \n",
       "1               1                3             1                       1   \n",
       "2               5                5             5                       5   \n",
       "3               2                2             2                       2   \n",
       "4               4                5             5                       3   \n",
       "\n",
       "   On-board service  Leg room service  Baggage handling  Checkin service  \\\n",
       "0                 4                 3                 4                4   \n",
       "1                 1                 5                 3                1   \n",
       "2                 4                 3                 4                4   \n",
       "3                 2                 5                 3                1   \n",
       "4                 3                 4                 4                3   \n",
       "\n",
       "   Inflight service  Cleanliness  Departure Delay in Minutes  \\\n",
       "0                 5            5                          25   \n",
       "1                 4            1                           1   \n",
       "2                 4            5                           0   \n",
       "3                 4            2                          11   \n",
       "4                 3            3                           0   \n",
       "\n",
       "   Arrival Delay in Minutes             satisfaction  \n",
       "0                      18.0  neutral or dissatisfied  \n",
       "1                       6.0  neutral or dissatisfied  \n",
       "2                       0.0                satisfied  \n",
       "3                       9.0  neutral or dissatisfied  \n",
       "4                       0.0                satisfied  "
      ]
     },
     "execution_count": 4,
     "metadata": {},
     "output_type": "execute_result"
    }
   ],
   "source": [
    "train.head()"
   ]
  },
  {
   "cell_type": "code",
   "execution_count": 5,
   "metadata": {},
   "outputs": [
    {
     "data": {
      "text/html": [
       "<div>\n",
       "<style scoped>\n",
       "    .dataframe tbody tr th:only-of-type {\n",
       "        vertical-align: middle;\n",
       "    }\n",
       "\n",
       "    .dataframe tbody tr th {\n",
       "        vertical-align: top;\n",
       "    }\n",
       "\n",
       "    .dataframe thead th {\n",
       "        text-align: right;\n",
       "    }\n",
       "</style>\n",
       "<table border=\"1\" class=\"dataframe\">\n",
       "  <thead>\n",
       "    <tr style=\"text-align: right;\">\n",
       "      <th></th>\n",
       "      <th>Unnamed: 0</th>\n",
       "      <th>id</th>\n",
       "      <th>Gender</th>\n",
       "      <th>Customer Type</th>\n",
       "      <th>Age</th>\n",
       "      <th>Type of Travel</th>\n",
       "      <th>Class</th>\n",
       "      <th>Flight Distance</th>\n",
       "      <th>Inflight wifi service</th>\n",
       "      <th>Departure/Arrival time convenient</th>\n",
       "      <th>Ease of Online booking</th>\n",
       "      <th>Gate location</th>\n",
       "      <th>Food and drink</th>\n",
       "      <th>Online boarding</th>\n",
       "      <th>Seat comfort</th>\n",
       "      <th>Inflight entertainment</th>\n",
       "      <th>On-board service</th>\n",
       "      <th>Leg room service</th>\n",
       "      <th>Baggage handling</th>\n",
       "      <th>Checkin service</th>\n",
       "      <th>Inflight service</th>\n",
       "      <th>Cleanliness</th>\n",
       "      <th>Departure Delay in Minutes</th>\n",
       "      <th>Arrival Delay in Minutes</th>\n",
       "      <th>satisfaction</th>\n",
       "    </tr>\n",
       "  </thead>\n",
       "  <tbody>\n",
       "    <tr>\n",
       "      <th>0</th>\n",
       "      <td>0</td>\n",
       "      <td>19556</td>\n",
       "      <td>Female</td>\n",
       "      <td>Loyal Customer</td>\n",
       "      <td>52</td>\n",
       "      <td>Business travel</td>\n",
       "      <td>Eco</td>\n",
       "      <td>160</td>\n",
       "      <td>5</td>\n",
       "      <td>4</td>\n",
       "      <td>3</td>\n",
       "      <td>4</td>\n",
       "      <td>3</td>\n",
       "      <td>4</td>\n",
       "      <td>3</td>\n",
       "      <td>5</td>\n",
       "      <td>5</td>\n",
       "      <td>5</td>\n",
       "      <td>5</td>\n",
       "      <td>2</td>\n",
       "      <td>5</td>\n",
       "      <td>5</td>\n",
       "      <td>50</td>\n",
       "      <td>44.0</td>\n",
       "      <td>satisfied</td>\n",
       "    </tr>\n",
       "    <tr>\n",
       "      <th>1</th>\n",
       "      <td>1</td>\n",
       "      <td>90035</td>\n",
       "      <td>Female</td>\n",
       "      <td>Loyal Customer</td>\n",
       "      <td>36</td>\n",
       "      <td>Business travel</td>\n",
       "      <td>Business</td>\n",
       "      <td>2863</td>\n",
       "      <td>1</td>\n",
       "      <td>1</td>\n",
       "      <td>3</td>\n",
       "      <td>1</td>\n",
       "      <td>5</td>\n",
       "      <td>4</td>\n",
       "      <td>5</td>\n",
       "      <td>4</td>\n",
       "      <td>4</td>\n",
       "      <td>4</td>\n",
       "      <td>4</td>\n",
       "      <td>3</td>\n",
       "      <td>4</td>\n",
       "      <td>5</td>\n",
       "      <td>0</td>\n",
       "      <td>0.0</td>\n",
       "      <td>satisfied</td>\n",
       "    </tr>\n",
       "    <tr>\n",
       "      <th>2</th>\n",
       "      <td>2</td>\n",
       "      <td>12360</td>\n",
       "      <td>Male</td>\n",
       "      <td>disloyal Customer</td>\n",
       "      <td>20</td>\n",
       "      <td>Business travel</td>\n",
       "      <td>Eco</td>\n",
       "      <td>192</td>\n",
       "      <td>2</td>\n",
       "      <td>0</td>\n",
       "      <td>2</td>\n",
       "      <td>4</td>\n",
       "      <td>2</td>\n",
       "      <td>2</td>\n",
       "      <td>2</td>\n",
       "      <td>2</td>\n",
       "      <td>4</td>\n",
       "      <td>1</td>\n",
       "      <td>3</td>\n",
       "      <td>2</td>\n",
       "      <td>2</td>\n",
       "      <td>2</td>\n",
       "      <td>0</td>\n",
       "      <td>0.0</td>\n",
       "      <td>neutral or dissatisfied</td>\n",
       "    </tr>\n",
       "    <tr>\n",
       "      <th>3</th>\n",
       "      <td>3</td>\n",
       "      <td>77959</td>\n",
       "      <td>Male</td>\n",
       "      <td>Loyal Customer</td>\n",
       "      <td>44</td>\n",
       "      <td>Business travel</td>\n",
       "      <td>Business</td>\n",
       "      <td>3377</td>\n",
       "      <td>0</td>\n",
       "      <td>0</td>\n",
       "      <td>0</td>\n",
       "      <td>2</td>\n",
       "      <td>3</td>\n",
       "      <td>4</td>\n",
       "      <td>4</td>\n",
       "      <td>1</td>\n",
       "      <td>1</td>\n",
       "      <td>1</td>\n",
       "      <td>1</td>\n",
       "      <td>3</td>\n",
       "      <td>1</td>\n",
       "      <td>4</td>\n",
       "      <td>0</td>\n",
       "      <td>6.0</td>\n",
       "      <td>satisfied</td>\n",
       "    </tr>\n",
       "    <tr>\n",
       "      <th>4</th>\n",
       "      <td>4</td>\n",
       "      <td>36875</td>\n",
       "      <td>Female</td>\n",
       "      <td>Loyal Customer</td>\n",
       "      <td>49</td>\n",
       "      <td>Business travel</td>\n",
       "      <td>Eco</td>\n",
       "      <td>1182</td>\n",
       "      <td>2</td>\n",
       "      <td>3</td>\n",
       "      <td>4</td>\n",
       "      <td>3</td>\n",
       "      <td>4</td>\n",
       "      <td>1</td>\n",
       "      <td>2</td>\n",
       "      <td>2</td>\n",
       "      <td>2</td>\n",
       "      <td>2</td>\n",
       "      <td>2</td>\n",
       "      <td>4</td>\n",
       "      <td>2</td>\n",
       "      <td>4</td>\n",
       "      <td>0</td>\n",
       "      <td>20.0</td>\n",
       "      <td>satisfied</td>\n",
       "    </tr>\n",
       "  </tbody>\n",
       "</table>\n",
       "</div>"
      ],
      "text/plain": [
       "   Unnamed: 0     id  Gender      Customer Type  Age   Type of Travel  \\\n",
       "0           0  19556  Female     Loyal Customer   52  Business travel   \n",
       "1           1  90035  Female     Loyal Customer   36  Business travel   \n",
       "2           2  12360    Male  disloyal Customer   20  Business travel   \n",
       "3           3  77959    Male     Loyal Customer   44  Business travel   \n",
       "4           4  36875  Female     Loyal Customer   49  Business travel   \n",
       "\n",
       "      Class  Flight Distance  Inflight wifi service  \\\n",
       "0       Eco              160                      5   \n",
       "1  Business             2863                      1   \n",
       "2       Eco              192                      2   \n",
       "3  Business             3377                      0   \n",
       "4       Eco             1182                      2   \n",
       "\n",
       "   Departure/Arrival time convenient  Ease of Online booking  Gate location  \\\n",
       "0                                  4                       3              4   \n",
       "1                                  1                       3              1   \n",
       "2                                  0                       2              4   \n",
       "3                                  0                       0              2   \n",
       "4                                  3                       4              3   \n",
       "\n",
       "   Food and drink  Online boarding  Seat comfort  Inflight entertainment  \\\n",
       "0               3                4             3                       5   \n",
       "1               5                4             5                       4   \n",
       "2               2                2             2                       2   \n",
       "3               3                4             4                       1   \n",
       "4               4                1             2                       2   \n",
       "\n",
       "   On-board service  Leg room service  Baggage handling  Checkin service  \\\n",
       "0                 5                 5                 5                2   \n",
       "1                 4                 4                 4                3   \n",
       "2                 4                 1                 3                2   \n",
       "3                 1                 1                 1                3   \n",
       "4                 2                 2                 2                4   \n",
       "\n",
       "   Inflight service  Cleanliness  Departure Delay in Minutes  \\\n",
       "0                 5            5                          50   \n",
       "1                 4            5                           0   \n",
       "2                 2            2                           0   \n",
       "3                 1            4                           0   \n",
       "4                 2            4                           0   \n",
       "\n",
       "   Arrival Delay in Minutes             satisfaction  \n",
       "0                      44.0                satisfied  \n",
       "1                       0.0                satisfied  \n",
       "2                       0.0  neutral or dissatisfied  \n",
       "3                       6.0                satisfied  \n",
       "4                      20.0                satisfied  "
      ]
     },
     "execution_count": 5,
     "metadata": {},
     "output_type": "execute_result"
    }
   ],
   "source": [
    "test.head()"
   ]
  },
  {
   "cell_type": "code",
   "execution_count": 6,
   "metadata": {},
   "outputs": [
    {
     "data": {
      "text/plain": [
       "((103904, 25), (25976, 25))"
      ]
     },
     "execution_count": 6,
     "metadata": {},
     "output_type": "execute_result"
    }
   ],
   "source": [
    "train.shape,test.shape"
   ]
  },
  {
   "cell_type": "markdown",
   "metadata": {},
   "source": [
    "Dimensi dari data train terdiri atas 103904 baris dan 25 kolom\n",
    "\n",
    "Dimensi dari data test terdiri atas 25976 baris dan 25 kolom"
   ]
  },
  {
   "cell_type": "markdown",
   "metadata": {},
   "source": [
    "**Penjelasan setiap variables dari dataset**\n",
    "1.\tGender                              : Gender of the passengers (Female, Male)\n",
    "2.\tCustomer Type                       : The customer type (Loyal customer, disloyal customer)\n",
    "3.\tAge                                 : The actual age of the passengers\n",
    "4.\tType of Travel                      : Purpose of the flight of the passengers (Personal Travel, Business Travel)\n",
    "5.\tClass                               : Travel class in the plane of the passengers (Business, Eco, Eco Plus)\n",
    "6.\tFlight distance                     : The flight distance of this journey\n",
    "7.\tInflight wifi service               : Satisfaction level of the inflight wifi service (0:Not Applicable;1-5)\n",
    "8.\tDeparture/Arrival time convenient   : Satisfaction level of Departure/Arrival time convenient\n",
    "9.\tEase of Online booking              : Satisfaction level of online booking\n",
    "10.\tGate location                       : Satisfaction level of Gate location\n",
    "11.\tFood and drink                      : Satisfaction level of Food and drink\n",
    "12.\tOnline boarding                     : Satisfaction level of online boarding\n",
    "13.\tSeat comfort                        : Satisfaction level of Seat comfort\n",
    "14.\tInflight entertainment              : Satisfaction level of inflight entertainment\n",
    "15.\tOn-board service                    : Satisfaction level of On-board service\n",
    "16.\tLeg room service                    : Satisfaction level of Leg room service\n",
    "17.\tBaggage handling                    : Satisfaction level of baggage handling\n",
    "18.\tCheck-in service                    : Satisfaction level of Check-in service\n",
    "19.\tInflight service                    : Satisfaction level of inflight service\n",
    "20.\tCleanliness                         : Satisfaction level of Cleanliness\n",
    "21.\tDeparture Delay in Minutes          : Minutes delayed when departure\n",
    "22.\tArrival Delay in Minutes            : Minutes delayed when Arrival\n",
    "23.\tSatisfaction                        : Airline satisfaction level(Satisfaction, neutral or dissatisfaction)\n"
   ]
  },
  {
   "cell_type": "markdown",
   "metadata": {},
   "source": [
    "### Rangkuman Dataset Train dan Test"
   ]
  },
  {
   "cell_type": "markdown",
   "metadata": {},
   "source": [
    "**Data Train**"
   ]
  },
  {
   "cell_type": "code",
   "execution_count": 7,
   "metadata": {},
   "outputs": [
    {
     "name": "stdout",
     "output_type": "stream",
     "text": [
      "<class 'pandas.core.frame.DataFrame'>\n",
      "RangeIndex: 103904 entries, 0 to 103903\n",
      "Data columns (total 25 columns):\n",
      " #   Column                             Non-Null Count   Dtype  \n",
      "---  ------                             --------------   -----  \n",
      " 0   Unnamed: 0                         103904 non-null  int64  \n",
      " 1   id                                 103904 non-null  int64  \n",
      " 2   Gender                             103904 non-null  object \n",
      " 3   Customer Type                      103904 non-null  object \n",
      " 4   Age                                103904 non-null  int64  \n",
      " 5   Type of Travel                     103904 non-null  object \n",
      " 6   Class                              103904 non-null  object \n",
      " 7   Flight Distance                    103904 non-null  int64  \n",
      " 8   Inflight wifi service              103904 non-null  int64  \n",
      " 9   Departure/Arrival time convenient  103904 non-null  int64  \n",
      " 10  Ease of Online booking             103904 non-null  int64  \n",
      " 11  Gate location                      103904 non-null  int64  \n",
      " 12  Food and drink                     103904 non-null  int64  \n",
      " 13  Online boarding                    103904 non-null  int64  \n",
      " 14  Seat comfort                       103904 non-null  int64  \n",
      " 15  Inflight entertainment             103904 non-null  int64  \n",
      " 16  On-board service                   103904 non-null  int64  \n",
      " 17  Leg room service                   103904 non-null  int64  \n",
      " 18  Baggage handling                   103904 non-null  int64  \n",
      " 19  Checkin service                    103904 non-null  int64  \n",
      " 20  Inflight service                   103904 non-null  int64  \n",
      " 21  Cleanliness                        103904 non-null  int64  \n",
      " 22  Departure Delay in Minutes         103904 non-null  int64  \n",
      " 23  Arrival Delay in Minutes           103594 non-null  float64\n",
      " 24  satisfaction                       103904 non-null  object \n",
      "dtypes: float64(1), int64(19), object(5)\n",
      "memory usage: 19.8+ MB\n"
     ]
    }
   ],
   "source": [
    "train.info()"
   ]
  },
  {
   "cell_type": "code",
   "execution_count": 8,
   "metadata": {},
   "outputs": [
    {
     "data": {
      "text/plain": [
       "Unnamed: 0                             0\n",
       "id                                     0\n",
       "Gender                                 0\n",
       "Customer Type                          0\n",
       "Age                                    0\n",
       "Type of Travel                         0\n",
       "Class                                  0\n",
       "Flight Distance                        0\n",
       "Inflight wifi service                  0\n",
       "Departure/Arrival time convenient      0\n",
       "Ease of Online booking                 0\n",
       "Gate location                          0\n",
       "Food and drink                         0\n",
       "Online boarding                        0\n",
       "Seat comfort                           0\n",
       "Inflight entertainment                 0\n",
       "On-board service                       0\n",
       "Leg room service                       0\n",
       "Baggage handling                       0\n",
       "Checkin service                        0\n",
       "Inflight service                       0\n",
       "Cleanliness                            0\n",
       "Departure Delay in Minutes             0\n",
       "Arrival Delay in Minutes             310\n",
       "satisfaction                           0\n",
       "dtype: int64"
      ]
     },
     "execution_count": 8,
     "metadata": {},
     "output_type": "execute_result"
    }
   ],
   "source": [
    "train.isna().sum()"
   ]
  },
  {
   "cell_type": "markdown",
   "metadata": {},
   "source": [
    "**Data Test**"
   ]
  },
  {
   "cell_type": "code",
   "execution_count": 9,
   "metadata": {},
   "outputs": [
    {
     "name": "stdout",
     "output_type": "stream",
     "text": [
      "<class 'pandas.core.frame.DataFrame'>\n",
      "RangeIndex: 25976 entries, 0 to 25975\n",
      "Data columns (total 25 columns):\n",
      " #   Column                             Non-Null Count  Dtype  \n",
      "---  ------                             --------------  -----  \n",
      " 0   Unnamed: 0                         25976 non-null  int64  \n",
      " 1   id                                 25976 non-null  int64  \n",
      " 2   Gender                             25976 non-null  object \n",
      " 3   Customer Type                      25976 non-null  object \n",
      " 4   Age                                25976 non-null  int64  \n",
      " 5   Type of Travel                     25976 non-null  object \n",
      " 6   Class                              25976 non-null  object \n",
      " 7   Flight Distance                    25976 non-null  int64  \n",
      " 8   Inflight wifi service              25976 non-null  int64  \n",
      " 9   Departure/Arrival time convenient  25976 non-null  int64  \n",
      " 10  Ease of Online booking             25976 non-null  int64  \n",
      " 11  Gate location                      25976 non-null  int64  \n",
      " 12  Food and drink                     25976 non-null  int64  \n",
      " 13  Online boarding                    25976 non-null  int64  \n",
      " 14  Seat comfort                       25976 non-null  int64  \n",
      " 15  Inflight entertainment             25976 non-null  int64  \n",
      " 16  On-board service                   25976 non-null  int64  \n",
      " 17  Leg room service                   25976 non-null  int64  \n",
      " 18  Baggage handling                   25976 non-null  int64  \n",
      " 19  Checkin service                    25976 non-null  int64  \n",
      " 20  Inflight service                   25976 non-null  int64  \n",
      " 21  Cleanliness                        25976 non-null  int64  \n",
      " 22  Departure Delay in Minutes         25976 non-null  int64  \n",
      " 23  Arrival Delay in Minutes           25893 non-null  float64\n",
      " 24  satisfaction                       25976 non-null  object \n",
      "dtypes: float64(1), int64(19), object(5)\n",
      "memory usage: 5.0+ MB\n"
     ]
    }
   ],
   "source": [
    "test.info()"
   ]
  },
  {
   "cell_type": "code",
   "execution_count": 10,
   "metadata": {},
   "outputs": [
    {
     "data": {
      "text/plain": [
       "Unnamed: 0                            0\n",
       "id                                    0\n",
       "Gender                                0\n",
       "Customer Type                         0\n",
       "Age                                   0\n",
       "Type of Travel                        0\n",
       "Class                                 0\n",
       "Flight Distance                       0\n",
       "Inflight wifi service                 0\n",
       "Departure/Arrival time convenient     0\n",
       "Ease of Online booking                0\n",
       "Gate location                         0\n",
       "Food and drink                        0\n",
       "Online boarding                       0\n",
       "Seat comfort                          0\n",
       "Inflight entertainment                0\n",
       "On-board service                      0\n",
       "Leg room service                      0\n",
       "Baggage handling                      0\n",
       "Checkin service                       0\n",
       "Inflight service                      0\n",
       "Cleanliness                           0\n",
       "Departure Delay in Minutes            0\n",
       "Arrival Delay in Minutes             83\n",
       "satisfaction                          0\n",
       "dtype: int64"
      ]
     },
     "execution_count": 10,
     "metadata": {},
     "output_type": "execute_result"
    }
   ],
   "source": [
    "test.isnull().sum()"
   ]
  },
  {
   "cell_type": "markdown",
   "metadata": {},
   "source": [
    "Dari hasil pengecekan rangkuman dataset train dan test didapatkan beberapa informasi sebagai berikut:\n",
    "\n",
    "1. Distribusi tipe data setiap variables di data train dan test terdiri atas 20 variables numerik dan 5 varibles object\n",
    "2. Missing value dari kedua data di dapatkan berada pada variable 'Arrival Delay in Minutes' dengan jumlah:\n",
    "    * Train = 310 Missing Value\n",
    "    * Test = 83 Missing Value"
   ]
  },
  {
   "cell_type": "markdown",
   "metadata": {},
   "source": [
    "### Korelasi Antar Variables in General (Data Train)"
   ]
  },
  {
   "cell_type": "markdown",
   "metadata": {},
   "source": [
    "**Mengubah tipe data variable target 'Satisfaction' ke dalam bentuk numerik, untuk melihat korelasi dengan fitur-fitur yang ada**"
   ]
  },
  {
   "cell_type": "code",
   "execution_count": 11,
   "metadata": {},
   "outputs": [
    {
     "data": {
      "text/plain": [
       "neutral or dissatisfied    58879\n",
       "satisfied                  45025\n",
       "Name: satisfaction, dtype: int64"
      ]
     },
     "execution_count": 11,
     "metadata": {},
     "output_type": "execute_result"
    }
   ],
   "source": [
    "train.satisfaction.value_counts()"
   ]
  },
  {
   "cell_type": "code",
   "execution_count": 12,
   "metadata": {},
   "outputs": [
    {
     "data": {
      "text/plain": [
       "0    58879\n",
       "1    45025\n",
       "Name: satisfaction, dtype: int64"
      ]
     },
     "execution_count": 12,
     "metadata": {},
     "output_type": "execute_result"
    }
   ],
   "source": [
    "corr_check = train.copy()\n",
    "corr_check['satisfaction'] = pd.factorize(corr_check['satisfaction'])[0]\n",
    "corr_check\n",
    "corr_check.satisfaction.value_counts()"
   ]
  },
  {
   "cell_type": "markdown",
   "metadata": {},
   "source": [
    "Keterangan:\n",
    "\n",
    "* 0 = neutral or dissatisfied\n",
    "* 1 = satisfied"
   ]
  },
  {
   "cell_type": "markdown",
   "metadata": {},
   "source": [
    "**Pengecekan korelasi antara target dengan fitur dengan heatmap**"
   ]
  },
  {
   "cell_type": "code",
   "execution_count": 13,
   "metadata": {},
   "outputs": [
    {
     "data": {
      "image/png": "[encoded data removed]",
      "text/plain": [
       "<Figure size 1080x720 with 2 Axes>"
      ]
     },
     "metadata": {
      "needs_background": "light"
     },
     "output_type": "display_data"
    }
   ],
   "source": [
    "plt.figure(figsize = (15,10))\n",
    "sns.heatmap(corr_check.corr(), annot = True, fmt = '.2f', cmap = 'Blues')\n",
    "plt.show()"
   ]
  },
  {
   "cell_type": "markdown",
   "metadata": {},
   "source": [
    "Dari hasil korelasi antara fitur dengan target didapatkan rangkuman sebagai berikut:\n",
    "\n",
    "1. Beberapa fitur yang memiliki korelasi yang cukup besar dengan target adalah fitur *Online boarding (0.5), Inflight Entertainment (0.4) dan Seat comfort (0.35)*.\n",
    "\n",
    "2. Beberapa fitur yang memiliki korelasi yang sangat kecil dengan target adalah fitur *Gate Location (0.0), Departure Delay in Minutes (-0.05) dan Arrival Delay in Minutes (-0.06)*.\n",
    "\n",
    "3. Untuk variable seperti 'Unnamed' dan 'id' otomatis akan di drop karena itu hanya penanda nomor penumpang saja, tidak ada arti lain yang berhubungan dengan target."
   ]
  },
  {
   "cell_type": "markdown",
   "metadata": {},
   "source": [
    "### Pemeriksaan Korelasi Beberapa Fitur dengan Target ('Satisfaction')"
   ]
  },
  {
   "cell_type": "code",
   "execution_count": 14,
   "metadata": {},
   "outputs": [
    {
     "data": {
      "image/png": "[encoded data removed]",
      "text/plain": [
       "<Figure size 1800x630 with 3 Axes>"
      ]
     },
     "metadata": {
      "needs_background": "light"
     },
     "output_type": "display_data"
    }
   ],
   "source": [
    "fig, ax = plt.subplots(1, 3, figsize =(20,7), dpi=90)\n",
    "sns.countplot(x = 'Customer Type', hue= 'satisfaction', data = train, color = 'red', ax=ax[0])\n",
    "sns.countplot(x = 'Type of Travel',hue= 'satisfaction', data = train, color = 'red', ax=ax[1])\n",
    "sns.countplot(x = 'Class',hue= 'satisfaction', data = train, color = 'red', ax=ax[2])\n",
    "\n",
    "ax[0].title.set_text('Flight Passanger Satisfaction berdasarkan Jenis Customer')\n",
    "ax[1].title.set_text('Flight Passanger Satisfaction berdasarkan Tujuan Penerbangan')\n",
    "ax[2].title.set_text('Flight Passanger Satisfaction berdasarkan Kelas Penerbangan')\n",
    "\n",
    "ax[0].legend(title = 'Tingkat Kepuasan?', fontsize=8)\n",
    "ax[1].legend(title = 'Tingkat Kepuasan ?', fontsize=8)\n",
    "ax[2].legend(title = 'Tingkat Kepuasan ?', fontsize=8)\n",
    "\n",
    "plt.show()\n",
    "\n"
   ]
  },
  {
   "cell_type": "markdown",
   "metadata": {},
   "source": [
    "Grafik di atas menunjukan bagaimana kepuasan penumpang pesawat berdasarkan jenis pelanggan, tujuan penerbangan dan kelas penerbangan yang di ambil oleh penumpang. Terlihat bahwa penumpang-penumpang yang loyal, tujuan penerbangannya yaitu untuk melakukan business trip dan juga penumpang yang menggunakan Business Class lebih banyak yang merasa puas dengan layanan yang di berikan oleh maskapai selama penerbangan."
   ]
  },
  {
   "cell_type": "markdown",
   "metadata": {},
   "source": [
    "### Hubungan Jarak Penerbangan dengan Jenis Perjalanan"
   ]
  },
  {
   "cell_type": "code",
   "execution_count": 15,
   "metadata": {},
   "outputs": [
    {
     "data": {
      "text/plain": [
       "<seaborn.axisgrid.FacetGrid at 0x22589963be0>"
      ]
     },
     "execution_count": 15,
     "metadata": {},
     "output_type": "execute_result"
    },
    {
     "data": {
      "image/png": "[encoded data removed]",
      "text/plain": [
       "<Figure size 1225.12x360 with 3 Axes>"
      ]
     },
     "metadata": {
      "needs_background": "light"
     },
     "output_type": "display_data"
    }
   ],
   "source": [
    "sns.catplot(kind='bar', col = 'Class', x='Flight Distance', y='Type of Travel', hue='satisfaction', data = train)\n",
    "#black line adalah error dari bar "
   ]
  },
  {
   "cell_type": "markdown",
   "metadata": {},
   "source": [
    "Grafik di atas menunjukan bagaimana hubungan jarak suatu penerbangan dengan jenis penerbangan yang di kelompokkan berdasarkan pemilihan kelas penerbangan (Eco, Eco Plus dan Business) dengan melihat bagaimana satisfaction mereka selama penerbangan. Didapatkan beberapa informasi sebagai berikut:\n",
    "\n",
    "1. Untuk konsumen dengan jenis penerbangan 'Personal Travel', baik di kelas Eco Plus, Eco, maupun Business lebih banyak merasa puas dengan layanan yang airline berikan\n",
    "2. Untuk konsumen dengan jenis penerbangan 'Business Travel', mereka lebih puas melakukan penerbangan dengan kelas Business untuk jarak yang jauh, hal ini didasari dengan alasan mungkin karena jaraknya jauh, mereka melakukan penerbangan untuk urusan bisnis maka dengan memilih kelas Business, mereka akan lebih dimanjakan dengan fasilitas dan privacy yang lebih baik, sehingga ketika sampai di tempat tujuan tidak terlalu merasa kelelahan akibat penerbangan dan bisa lebih produktif untuk melakukan urusan bisnis kedepannya."
   ]
  },
  {
   "cell_type": "markdown",
   "metadata": {},
   "source": [
    "### Hubungan Satisfaction dengan Seat comfort, Inflight entertainment, Online boarding"
   ]
  },
  {
   "cell_type": "markdown",
   "metadata": {},
   "source": [
    "Pada grafik ini akan menampilkan bagaimana hubungan target dengan fitur-fitur yang memiliki korelasinya paling tinggi"
   ]
  },
  {
   "cell_type": "code",
   "execution_count": 16,
   "metadata": {},
   "outputs": [
    {
     "data": {
      "text/plain": [
       "<seaborn.axisgrid.FacetGrid at 0x225f0e58640>"
      ]
     },
     "execution_count": 16,
     "metadata": {},
     "output_type": "execute_result"
    },
    {
     "data": {
      "image/png": "[encoded data removed]",
      "text/plain": [
       "<Figure size 1209.6x288 with 6 Axes>"
      ]
     },
     "metadata": {
      "needs_background": "light"
     },
     "output_type": "display_data"
    },
    {
     "data": {
      "image/png": "[encoded data removed]",
      "text/plain": [
       "<Figure size 1209.6x288 with 6 Axes>"
      ]
     },
     "metadata": {
      "needs_background": "light"
     },
     "output_type": "display_data"
    },
    {
     "data": {
      "image/png": "[encoded data removed]",
      "text/plain": [
       "<Figure size 1209.6x288 with 6 Axes>"
      ]
     },
     "metadata": {
      "needs_background": "light"
     },
     "output_type": "display_data"
    }
   ],
   "source": [
    "sns.catplot(kind = 'count', x='satisfaction', col='Seat comfort', data=train, height = 4, aspect=0.7)\n",
    "sns.catplot(kind = 'count', x='satisfaction', col='Inflight entertainment', data=train, height = 4, aspect=0.7)\n",
    "sns.catplot(kind = 'count', x='satisfaction', col='Online boarding', data=train, height = 4, aspect=0.7)"
   ]
  },
  {
   "cell_type": "markdown",
   "metadata": {},
   "source": [
    "Dari grafik plot di atas dapat di simpulkan bagaimana hubungan ke tiga fitur tersebut dengan tingkat satisfaction konsumen selama penerbangan:\n",
    "1. Terkait seat comfort, semakin nyaman tempat duduk selama penerbangan maka konsumen sudah merasakan bahwa airline ini memiliki tingkat kenyamanan penerbangan yang bagus.\n",
    "2. Terkait inflight entertainment juga sama, mungkin semakin bervariasi fitur-fitur seperti film, musik atau mungkin ada fitur seperti POV dari berbagai sisi untuk melihat bagaimana keadaan di luar pesawat dapat meningkatkan kenyamanan mereka\n",
    "3. Terakhir terkait Online boarding, ini untuk keadaan sebelum penerbangan. Jadi mungkin apabila maskapai sudah semakin digital seperti dengan adanya fitur online boarding dimana konsumen hanya perlu melakukan check in melalui aplikasi ataupun website tanpa perlu melakukan check in secara tradisional di terminal bandara juga dapat meningkatkan tingkat kenyamanan mereka. "
   ]
  },
  {
   "cell_type": "markdown",
   "metadata": {},
   "source": [
    "## Preprocessing"
   ]
  },
  {
   "cell_type": "markdown",
   "metadata": {},
   "source": [
    "### Drop Fitur 'Unamed: 0' dan 'id' pada data train dan test"
   ]
  },
  {
   "cell_type": "code",
   "execution_count": 17,
   "metadata": {},
   "outputs": [],
   "source": [
    "train.drop(['Unnamed: 0','id'], axis = 1, inplace = True)\n",
    "test.drop(['Unnamed: 0','id'], axis = 1, inplace = True)"
   ]
  },
  {
   "cell_type": "markdown",
   "metadata": {},
   "source": [
    "Seperti yang sudah di jelaskan pada bagian EDA bahwa kedua varibles ini tidak memiliki korelasi dengan target, melainkan hanya sebagai penanda no penumpang saja"
   ]
  },
  {
   "cell_type": "markdown",
   "metadata": {},
   "source": [
    "### Spliting Dataset"
   ]
  },
  {
   "cell_type": "markdown",
   "metadata": {},
   "source": [
    "**Memisahkan Variable Fitur dan Target dari data train dan test**"
   ]
  },
  {
   "cell_type": "code",
   "execution_count": 18,
   "metadata": {},
   "outputs": [
    {
     "data": {
      "text/plain": [
       "((103904, 22), (25976, 22), (103904,), (25976,))"
      ]
     },
     "execution_count": 18,
     "metadata": {},
     "output_type": "execute_result"
    }
   ],
   "source": [
    "X_train = train.drop(['satisfaction'], axis = 1)\n",
    "X_test = test.drop(['satisfaction'], axis = 1)\n",
    "y_train = train['satisfaction']\n",
    "y_test = test['satisfaction']\n",
    "\n",
    "X_train.shape, X_test.shape, y_train.shape, y_test.shape"
   ]
  },
  {
   "cell_type": "markdown",
   "metadata": {},
   "source": [
    "Keterangan:\n",
    "\n",
    "1. X_train = variable fitur data train\n",
    "2. X_test = variable fitu data test\n",
    "3. y_train = variable target data train\n",
    "4. y_test = variable target data test"
   ]
  },
  {
   "cell_type": "markdown",
   "metadata": {},
   "source": [
    "### Handling Missing Value"
   ]
  },
  {
   "cell_type": "markdown",
   "metadata": {},
   "source": [
    "**Cek distribusi data pada fitur dengan tipe data Nominal**"
   ]
  },
  {
   "cell_type": "code",
   "execution_count": 19,
   "metadata": {},
   "outputs": [
    {
     "data": {
      "image/png": "[encoded data removed]",
      "text/plain": [
       "<Figure size 720x720 with 4 Axes>"
      ]
     },
     "metadata": {
      "needs_background": "light"
     },
     "output_type": "display_data"
    }
   ],
   "source": [
    "X_train.hist(column = ['Age','Flight Distance','Departure Delay in Minutes', 'Arrival Delay in Minutes'], figsize = (10,10))\n",
    "plt.show()"
   ]
  },
  {
   "cell_type": "markdown",
   "metadata": {},
   "source": [
    "Dari grafik plot di atas, bisa di ketahui bahwa pendistribusian data dari fitur-fitur ini tidak normal. Maka akan di lakukan handle untuk missing value dengan melakukan imputasi berdasarkan median dari varible yang memiliki missing value"
   ]
  },
  {
   "cell_type": "markdown",
   "metadata": {},
   "source": [
    "**Imputasi Median terhadap fitur data train dan test**"
   ]
  },
  {
   "cell_type": "code",
   "execution_count": 20,
   "metadata": {},
   "outputs": [],
   "source": [
    "X_train['Arrival Delay in Minutes'].fillna(X_train['Arrival Delay in Minutes'].median(), inplace = True)\n",
    "X_test['Arrival Delay in Minutes'].fillna(X_train['Arrival Delay in Minutes'].median(), inplace = True)"
   ]
  },
  {
   "cell_type": "code",
   "execution_count": 21,
   "metadata": {},
   "outputs": [
    {
     "data": {
      "text/plain": [
       "(0, 0)"
      ]
     },
     "execution_count": 21,
     "metadata": {},
     "output_type": "execute_result"
    }
   ],
   "source": [
    "X_train.isnull().sum().sum(),X_test.isnull().sum().sum()"
   ]
  },
  {
   "cell_type": "markdown",
   "metadata": {},
   "source": [
    "Keterangan:\n",
    "\n",
    "1. Mengisi missing value pada data train dan test dengan nilai median dari data train\n",
    "2. Data train dan test sudah bersih dari missing value dengan dilakukan pengecekan melalui 'isnull().sum().sum()'"
   ]
  },
  {
   "cell_type": "markdown",
   "metadata": {},
   "source": [
    "### Handling Outliers"
   ]
  },
  {
   "cell_type": "code",
   "execution_count": 22,
   "metadata": {},
   "outputs": [
    {
     "data": {
      "text/plain": [
       "<AxesSubplot:>"
      ]
     },
     "execution_count": 22,
     "metadata": {},
     "output_type": "execute_result"
    },
    {
     "data": {
      "image/png": "[encoded data removed]",
      "text/plain": [
       "<Figure size 720x360 with 1 Axes>"
      ]
     },
     "metadata": {
      "needs_background": "light"
     },
     "output_type": "display_data"
    }
   ],
   "source": [
    "plt.figure(figsize=(10,5))\n",
    "X_train.boxplot(column = ['Age','Flight Distance','Departure Delay in Minutes', 'Arrival Delay in Minutes'])"
   ]
  },
  {
   "cell_type": "markdown",
   "metadata": {},
   "source": [
    "Dari grafik histogram dan boxplot terlihat data-data fitur cenderung tidak terdistribusi secara normal dan terdapat outliers dari fitur-fitur nominal seperti, 'Fligh Distance', 'Departure Delay in Minutes' dan 'Arrival Delay in Minutes'"
   ]
  },
  {
   "cell_type": "markdown",
   "metadata": {},
   "source": [
    "**Handling Outliers dengan Trimming metode IQR terhadap fitur data train**"
   ]
  },
  {
   "cell_type": "code",
   "execution_count": 23,
   "metadata": {},
   "outputs": [],
   "source": [
    "capping = Winsorizer(capping_method='iqr',\n",
    "                          tail='both', \n",
    "                          fold=1.5,\n",
    "                          variables=['Flight Distance','Departure Delay in Minutes', 'Arrival Delay in Minutes'])\n",
    "capping.fit(X_train)\n",
    "X_train_outliers = capping.transform(X_train)"
   ]
  },
  {
   "cell_type": "code",
   "execution_count": 24,
   "metadata": {},
   "outputs": [
    {
     "data": {
      "text/plain": [
       "((103904, 22), (103904, 22))"
      ]
     },
     "execution_count": 24,
     "metadata": {},
     "output_type": "execute_result"
    }
   ],
   "source": [
    "X_train.shape,X_train_outliers.shape"
   ]
  },
  {
   "cell_type": "code",
   "execution_count": 25,
   "metadata": {},
   "outputs": [
    {
     "data": {
      "text/plain": [
       "<AxesSubplot:>"
      ]
     },
     "execution_count": 25,
     "metadata": {},
     "output_type": "execute_result"
    },
    {
     "data": {
      "image/png": "[encoded data removed]",
      "text/plain": [
       "<Figure size 720x360 with 1 Axes>"
      ]
     },
     "metadata": {
      "needs_background": "light"
     },
     "output_type": "display_data"
    }
   ],
   "source": [
    "plt.figure(figsize=(10,5))\n",
    "X_train_outliers.boxplot(column = ['Age','Flight Distance','Departure Delay in Minutes', 'Arrival Delay in Minutes'])"
   ]
  },
  {
   "cell_type": "markdown",
   "metadata": {},
   "source": [
    "### Encoding"
   ]
  },
  {
   "cell_type": "code",
   "execution_count": 26,
   "metadata": {},
   "outputs": [],
   "source": [
    "X_train_outliers.columns = X_train_outliers.columns.str.replace(' ','_')\n",
    "X_test.columns = X_test.columns.str.replace(' ','_') "
   ]
  },
  {
   "cell_type": "code",
   "execution_count": 27,
   "metadata": {},
   "outputs": [],
   "source": [
    "ce_ord = ce.OrdinalEncoder(cols = ['Gender','Customer_Type','Type_of_Travel','Class'])\n",
    "X_train_encode=ce_ord.fit_transform(X_train_outliers)\n",
    "X_test_encode=ce_ord.transform(X_test)"
   ]
  },
  {
   "cell_type": "markdown",
   "metadata": {},
   "source": [
    "### Ubah Semua Data Type Menjadi int32"
   ]
  },
  {
   "cell_type": "code",
   "execution_count": 28,
   "metadata": {},
   "outputs": [
    {
     "data": {
      "text/plain": [
       "Gender                                 int32\n",
       "Customer_Type                          int32\n",
       "Age                                    int64\n",
       "Type_of_Travel                         int32\n",
       "Class                                  int32\n",
       "Flight_Distance                      float64\n",
       "Inflight_wifi_service                  int64\n",
       "Departure/Arrival_time_convenient      int64\n",
       "Ease_of_Online_booking                 int64\n",
       "Gate_location                          int64\n",
       "Food_and_drink                         int64\n",
       "Online_boarding                        int64\n",
       "Seat_comfort                           int64\n",
       "Inflight_entertainment                 int64\n",
       "On-board_service                       int64\n",
       "Leg_room_service                       int64\n",
       "Baggage_handling                       int64\n",
       "Checkin_service                        int64\n",
       "Inflight_service                       int64\n",
       "Cleanliness                            int64\n",
       "Departure_Delay_in_Minutes           float64\n",
       "Arrival_Delay_in_Minutes             float64\n",
       "dtype: object"
      ]
     },
     "execution_count": 28,
     "metadata": {},
     "output_type": "execute_result"
    }
   ],
   "source": [
    "X_train_encode.dtypes"
   ]
  },
  {
   "cell_type": "code",
   "execution_count": 29,
   "metadata": {},
   "outputs": [
    {
     "data": {
      "text/plain": [
       "Gender                               int32\n",
       "Customer_Type                        int32\n",
       "Age                                  int32\n",
       "Type_of_Travel                       int32\n",
       "Class                                int32\n",
       "Flight_Distance                      int32\n",
       "Inflight_wifi_service                int32\n",
       "Departure/Arrival_time_convenient    int32\n",
       "Ease_of_Online_booking               int32\n",
       "Gate_location                        int32\n",
       "Food_and_drink                       int32\n",
       "Online_boarding                      int32\n",
       "Seat_comfort                         int32\n",
       "Inflight_entertainment               int32\n",
       "On-board_service                     int32\n",
       "Leg_room_service                     int32\n",
       "Baggage_handling                     int32\n",
       "Checkin_service                      int32\n",
       "Inflight_service                     int32\n",
       "Cleanliness                          int32\n",
       "Departure_Delay_in_Minutes           int32\n",
       "Arrival_Delay_in_Minutes             int32\n",
       "dtype: object"
      ]
     },
     "execution_count": 29,
     "metadata": {},
     "output_type": "execute_result"
    }
   ],
   "source": [
    "d = dict.fromkeys(X_train_encode.select_dtypes([np.int64,np.float64]).columns, np.int32)\n",
    "X_train_encode = X_train_encode.astype(d)\n",
    "X_train_encode.dtypes"
   ]
  },
  {
   "cell_type": "code",
   "execution_count": 30,
   "metadata": {},
   "outputs": [
    {
     "data": {
      "text/plain": [
       "Gender                                 int32\n",
       "Customer_Type                          int32\n",
       "Age                                    int64\n",
       "Type_of_Travel                         int32\n",
       "Class                                  int32\n",
       "Flight_Distance                        int64\n",
       "Inflight_wifi_service                  int64\n",
       "Departure/Arrival_time_convenient      int64\n",
       "Ease_of_Online_booking                 int64\n",
       "Gate_location                          int64\n",
       "Food_and_drink                         int64\n",
       "Online_boarding                        int64\n",
       "Seat_comfort                           int64\n",
       "Inflight_entertainment                 int64\n",
       "On-board_service                       int64\n",
       "Leg_room_service                       int64\n",
       "Baggage_handling                       int64\n",
       "Checkin_service                        int64\n",
       "Inflight_service                       int64\n",
       "Cleanliness                            int64\n",
       "Departure_Delay_in_Minutes             int64\n",
       "Arrival_Delay_in_Minutes             float64\n",
       "dtype: object"
      ]
     },
     "execution_count": 30,
     "metadata": {},
     "output_type": "execute_result"
    }
   ],
   "source": [
    "X_test_encode.dtypes"
   ]
  },
  {
   "cell_type": "code",
   "execution_count": 31,
   "metadata": {},
   "outputs": [
    {
     "data": {
      "text/plain": [
       "Gender                               int32\n",
       "Customer_Type                        int32\n",
       "Age                                  int32\n",
       "Type_of_Travel                       int32\n",
       "Class                                int32\n",
       "Flight_Distance                      int32\n",
       "Inflight_wifi_service                int32\n",
       "Departure/Arrival_time_convenient    int32\n",
       "Ease_of_Online_booking               int32\n",
       "Gate_location                        int32\n",
       "Food_and_drink                       int32\n",
       "Online_boarding                      int32\n",
       "Seat_comfort                         int32\n",
       "Inflight_entertainment               int32\n",
       "On-board_service                     int32\n",
       "Leg_room_service                     int32\n",
       "Baggage_handling                     int32\n",
       "Checkin_service                      int32\n",
       "Inflight_service                     int32\n",
       "Cleanliness                          int32\n",
       "Departure_Delay_in_Minutes           int32\n",
       "Arrival_Delay_in_Minutes             int32\n",
       "dtype: object"
      ]
     },
     "execution_count": 31,
     "metadata": {},
     "output_type": "execute_result"
    }
   ],
   "source": [
    "c = dict.fromkeys(X_test_encode.select_dtypes([np.int64,np.float64]).columns, np.int32)\n",
    "X_test_encode = X_test_encode.astype(c)\n",
    "X_test_encode.dtypes"
   ]
  },
  {
   "cell_type": "markdown",
   "metadata": {},
   "source": [
    "### Feature Selection"
   ]
  },
  {
   "cell_type": "code",
   "execution_count": 32,
   "metadata": {},
   "outputs": [
    {
     "data": {
      "image/png": "[encoded data removed]",
      "text/plain": [
       "<Figure size 720x504 with 1 Axes>"
      ]
     },
     "metadata": {
      "needs_background": "light"
     },
     "output_type": "display_data"
    },
    {
     "name": "stdout",
     "output_type": "stream",
     "text": [
      "Online_boarding                      0.165813\n",
      "Inflight_wifi_service                0.146034\n",
      "Type_of_Travel                       0.107373\n",
      "Class                                0.075591\n",
      "Inflight_entertainment               0.057970\n",
      "Seat_comfort                         0.050104\n",
      "Leg_room_service                     0.045035\n",
      "Flight_Distance                      0.039280\n",
      "Customer_Type                        0.038997\n",
      "Ease_of_Online_booking               0.037998\n",
      "On-board_service                     0.033956\n",
      "Age                                  0.032704\n",
      "Baggage_handling                     0.026142\n",
      "Cleanliness                          0.025225\n",
      "Inflight_service                     0.023729\n",
      "Checkin_service                      0.023724\n",
      "Departure/Arrival_time_convenient    0.016247\n",
      "Gate_location                        0.016156\n",
      "Food_and_drink                       0.013863\n",
      "Arrival_Delay_in_Minutes             0.010469\n",
      "Departure_Delay_in_Minutes           0.009107\n",
      "Gender                               0.004484\n",
      "dtype: float64\n"
     ]
    }
   ],
   "source": [
    "select_forest = RandomForestClassifier()\n",
    "select_forest.fit(X_train_encode,y_train)\n",
    "feature_score = pd.Series(select_forest.feature_importances_, index=X_train_encode.columns).sort_values(ascending=False)\n",
    "\n",
    "feature_score.plot(kind = 'barh', color = 'purple', figsize = (10,7), fontsize = 12)\n",
    "plt.title(label = 'Korelasi Fitur dengan Target', fontsize = 15)\n",
    "plt.show()\n",
    "print(feature_score)"
   ]
  },
  {
   "cell_type": "code",
   "execution_count": 33,
   "metadata": {},
   "outputs": [],
   "source": [
    "X_train_encode.drop(['Gender','Departure_Delay_in_Minutes','Arrival_Delay_in_Minutes','Food_and_drink','Gate_location','Departure/Arrival_time_convenient','Checkin_service','Baggage_handling'], axis = 1, inplace = True)\n",
    "X_test_encode.drop(['Gender','Departure_Delay_in_Minutes','Arrival_Delay_in_Minutes','Food_and_drink','Gate_location','Departure/Arrival_time_convenient','Checkin_service','Baggage_handling'], axis = 1, inplace = True)"
   ]
  },
  {
   "cell_type": "code",
   "execution_count": 34,
   "metadata": {},
   "outputs": [
    {
     "data": {
      "text/plain": [
       "((103904, 14), (25976, 14))"
      ]
     },
     "execution_count": 34,
     "metadata": {},
     "output_type": "execute_result"
    }
   ],
   "source": [
    "X_train_encode.shape,X_test_encode.shape"
   ]
  },
  {
   "cell_type": "markdown",
   "metadata": {},
   "source": [
    "Keterangan:\n",
    "\n",
    "1. Pengecekan korelasi target dengan fitur menggunakan Random Forest Classifier\n",
    "2. Dari grafik dan tabel korelasi, saya mengambil keputusan untuk melakukan drop fitur yang nilai korelasinya berada di bawah 0.025. Keputusan ini di buat juga dengan melihat korelasi fitur dengan target dari pengecekan dengan heatmap pada tahap EDA.\n",
    "3. Fitur-fitur yang di drop adalah *'Gender','Departure_Delay_in_Minutes','Arrival_Delay_in_Minutes','Food_and_drink','Gate_location','Departure/Arrival_time_convenient', 'Checkin_service' dan 'Baggage_handling'*"
   ]
  },
  {
   "cell_type": "markdown",
   "metadata": {},
   "source": [
    "## Pembuatan Pipeline Untuk Tahap Scaling dan Modeling (Calon Base Model)"
   ]
  },
  {
   "cell_type": "markdown",
   "metadata": {},
   "source": [
    "### Pipeline untuk Model Logistic Regression (Base)"
   ]
  },
  {
   "cell_type": "code",
   "execution_count": 35,
   "metadata": {},
   "outputs": [],
   "source": [
    "estimators_logreg = [('scaling', MinMaxScaler()),('logreg', LogisticRegression())]\n",
    "pipe_logreg = Pipeline(estimators_logreg)"
   ]
  },
  {
   "cell_type": "markdown",
   "metadata": {},
   "source": [
    "### Pipeline untuk Model Decision Tree (Base)"
   ]
  },
  {
   "cell_type": "code",
   "execution_count": 36,
   "metadata": {},
   "outputs": [],
   "source": [
    "estimators_tree = [('scaling', StandardScaler()),('tree', DecisionTreeClassifier())]\n",
    "pipe_tree = Pipeline(estimators_tree)"
   ]
  },
  {
   "cell_type": "markdown",
   "metadata": {},
   "source": [
    "### Pipeline untuk Model Random Forest Classifier (Base)"
   ]
  },
  {
   "cell_type": "code",
   "execution_count": 37,
   "metadata": {},
   "outputs": [],
   "source": [
    "estimators_forest = [('scaling', StandardScaler()),('forest', RandomForestClassifier())]\n",
    "pipe_forest = Pipeline(estimators_forest)"
   ]
  },
  {
   "cell_type": "markdown",
   "metadata": {},
   "source": [
    "### Pipeline untuk Model Naive Bayes (Base)"
   ]
  },
  {
   "cell_type": "code",
   "execution_count": 38,
   "metadata": {},
   "outputs": [],
   "source": [
    "estimators_nb = [('scaling', StandardScaler()),('nb', GaussianNB())]\n",
    "pipe_nb = Pipeline(estimators_nb)"
   ]
  },
  {
   "cell_type": "markdown",
   "metadata": {},
   "source": [
    "### Pipeline untuk Model Gradient Boosting Classifier (Base)"
   ]
  },
  {
   "cell_type": "code",
   "execution_count": 39,
   "metadata": {},
   "outputs": [],
   "source": [
    "estimator_gboost = [('scaling',MinMaxScaler()),('gboost',GradientBoostingClassifier())]\n",
    "pipe_gboost = Pipeline(estimator_gboost)"
   ]
  },
  {
   "cell_type": "markdown",
   "metadata": {},
   "source": [
    "## Model - Logistic Regression"
   ]
  },
  {
   "cell_type": "code",
   "execution_count": 40,
   "metadata": {},
   "outputs": [],
   "source": [
    "pipe_logreg.fit(X_train_encode,y_train)\n",
    "y_pred_logreg = pipe_logreg.predict(X_test_encode)"
   ]
  },
  {
   "cell_type": "markdown",
   "metadata": {},
   "source": [
    "## Model - Decision Tree Classifier"
   ]
  },
  {
   "cell_type": "code",
   "execution_count": 41,
   "metadata": {},
   "outputs": [],
   "source": [
    "pipe_tree.fit(X_train_encode,y_train)\n",
    "y_pred_tree = pipe_tree.predict(X_test_encode)"
   ]
  },
  {
   "cell_type": "markdown",
   "metadata": {},
   "source": [
    "## Model - Random Forest Classifier"
   ]
  },
  {
   "cell_type": "code",
   "execution_count": 42,
   "metadata": {},
   "outputs": [],
   "source": [
    "pipe_forest.fit(X_train_encode,y_train)\n",
    "y_pred_forest = pipe_forest.predict(X_test_encode)"
   ]
  },
  {
   "cell_type": "markdown",
   "metadata": {},
   "source": [
    "## Model - Naive Bayes"
   ]
  },
  {
   "cell_type": "code",
   "execution_count": 43,
   "metadata": {},
   "outputs": [],
   "source": [
    "pipe_nb.fit(X_train_encode,y_train)\n",
    "y_pred_nb = pipe_nb.predict(X_test_encode)"
   ]
  },
  {
   "cell_type": "markdown",
   "metadata": {},
   "source": [
    "## Model - Gradient Boosting Classifier"
   ]
  },
  {
   "cell_type": "code",
   "execution_count": 44,
   "metadata": {},
   "outputs": [],
   "source": [
    "pipe_gboost.fit(X_train_encode,y_train)\n",
    "y_pred_gboost = pipe_gboost.predict(X_test_encode)"
   ]
  },
  {
   "cell_type": "markdown",
   "metadata": {},
   "source": [
    "## Evaluasi dan Pemilihan Calon Base Model"
   ]
  },
  {
   "cell_type": "markdown",
   "metadata": {},
   "source": [
    "### Classification Report Setiap Calon Base Model"
   ]
  },
  {
   "cell_type": "markdown",
   "metadata": {},
   "source": [
    "**Classification Report Model Logistic Regression**"
   ]
  },
  {
   "cell_type": "code",
   "execution_count": 45,
   "metadata": {},
   "outputs": [
    {
     "name": "stdout",
     "output_type": "stream",
     "text": [
      "                         precision    recall  f1-score   support\n",
      "\n",
      "neutral or dissatisfied       0.89      0.87      0.88     15032\n",
      "              satisfied       0.83      0.86      0.84     10944\n",
      "\n",
      "               accuracy                           0.86     25976\n",
      "              macro avg       0.86      0.86      0.86     25976\n",
      "           weighted avg       0.87      0.86      0.86     25976\n",
      "\n"
     ]
    }
   ],
   "source": [
    "print(classification_report(y_pred_logreg,y_test))"
   ]
  },
  {
   "cell_type": "markdown",
   "metadata": {},
   "source": [
    "**Classification Report Model Decision Tree Classifier**"
   ]
  },
  {
   "cell_type": "code",
   "execution_count": 46,
   "metadata": {},
   "outputs": [
    {
     "name": "stdout",
     "output_type": "stream",
     "text": [
      "                         precision    recall  f1-score   support\n",
      "\n",
      "neutral or dissatisfied       0.94      0.94      0.94     14519\n",
      "              satisfied       0.93      0.93      0.93     11457\n",
      "\n",
      "               accuracy                           0.94     25976\n",
      "              macro avg       0.94      0.94      0.94     25976\n",
      "           weighted avg       0.94      0.94      0.94     25976\n",
      "\n"
     ]
    }
   ],
   "source": [
    "print(classification_report(y_pred_tree,y_test))"
   ]
  },
  {
   "cell_type": "markdown",
   "metadata": {},
   "source": [
    "**Classification Report Model Random Forest Classifier**"
   ]
  },
  {
   "cell_type": "code",
   "execution_count": 47,
   "metadata": {},
   "outputs": [
    {
     "name": "stdout",
     "output_type": "stream",
     "text": [
      "                         precision    recall  f1-score   support\n",
      "\n",
      "neutral or dissatisfied       0.97      0.95      0.96     14929\n",
      "              satisfied       0.93      0.96      0.95     11047\n",
      "\n",
      "               accuracy                           0.95     25976\n",
      "              macro avg       0.95      0.96      0.95     25976\n",
      "           weighted avg       0.96      0.95      0.95     25976\n",
      "\n"
     ]
    }
   ],
   "source": [
    "print(classification_report(y_pred_forest,y_test))"
   ]
  },
  {
   "cell_type": "markdown",
   "metadata": {},
   "source": [
    "**Classification Report Model Naive Bayes**"
   ]
  },
  {
   "cell_type": "code",
   "execution_count": 48,
   "metadata": {},
   "outputs": [
    {
     "name": "stdout",
     "output_type": "stream",
     "text": [
      "                         precision    recall  f1-score   support\n",
      "\n",
      "neutral or dissatisfied       0.90      0.87      0.88     15174\n",
      "              satisfied       0.82      0.87      0.84     10802\n",
      "\n",
      "               accuracy                           0.87     25976\n",
      "              macro avg       0.86      0.87      0.86     25976\n",
      "           weighted avg       0.87      0.87      0.87     25976\n",
      "\n"
     ]
    }
   ],
   "source": [
    "print(classification_report(y_pred_nb,y_test))"
   ]
  },
  {
   "cell_type": "markdown",
   "metadata": {},
   "source": [
    "**Classification Report Model Gradient Boosting Classifier**"
   ]
  },
  {
   "cell_type": "code",
   "execution_count": 49,
   "metadata": {},
   "outputs": [
    {
     "name": "stdout",
     "output_type": "stream",
     "text": [
      "                         precision    recall  f1-score   support\n",
      "\n",
      "neutral or dissatisfied       0.95      0.94      0.95     14839\n",
      "              satisfied       0.92      0.94      0.93     11137\n",
      "\n",
      "               accuracy                           0.94     25976\n",
      "              macro avg       0.94      0.94      0.94     25976\n",
      "           weighted avg       0.94      0.94      0.94     25976\n",
      "\n"
     ]
    }
   ],
   "source": [
    "print(classification_report(y_pred_gboost,y_test))"
   ]
  },
  {
   "cell_type": "markdown",
   "metadata": {},
   "source": [
    "### Evaluasi Fit Setiap Model"
   ]
  },
  {
   "cell_type": "markdown",
   "metadata": {},
   "source": [
    "**Fitting Model Logistic Regression**"
   ]
  },
  {
   "cell_type": "code",
   "execution_count": 50,
   "metadata": {},
   "outputs": [
    {
     "name": "stdout",
     "output_type": "stream",
     "text": [
      "Score Data Train: 0.867\n",
      "Score Data Test: 0.864\n"
     ]
    }
   ],
   "source": [
    "print('Score Data Train: {:.3f}'.format(pipe_logreg.score(X_train_encode, y_train)))\n",
    "print('Score Data Test: {:.3f}'.format(pipe_logreg.score(X_test_encode, y_test)))"
   ]
  },
  {
   "cell_type": "markdown",
   "metadata": {},
   "source": [
    "**Fitting Model Decision Tree Classifier**"
   ]
  },
  {
   "cell_type": "code",
   "execution_count": 51,
   "metadata": {},
   "outputs": [
    {
     "name": "stdout",
     "output_type": "stream",
     "text": [
      "Score Data Train: 1.000\n",
      "Score Data Test: 0.936\n"
     ]
    }
   ],
   "source": [
    "print('Score Data Train: {:.3f}'.format(pipe_tree.score(X_train_encode, y_train)))\n",
    "print('Score Data Test: {:.3f}'.format(pipe_tree.score(X_test_encode, y_test)))"
   ]
  },
  {
   "cell_type": "markdown",
   "metadata": {},
   "source": [
    "**Fitting Model Random Forest Classifier**"
   ]
  },
  {
   "cell_type": "code",
   "execution_count": 52,
   "metadata": {},
   "outputs": [
    {
     "name": "stdout",
     "output_type": "stream",
     "text": [
      "Score Data Train: 1.000\n",
      "Score Data Test: 0.955\n"
     ]
    }
   ],
   "source": [
    "print('Score Data Train: {:.3f}'.format(pipe_forest.score(X_train_encode, y_train)))\n",
    "print('Score Data Test: {:.3f}'.format(pipe_forest.score(X_test_encode, y_test)))"
   ]
  },
  {
   "cell_type": "markdown",
   "metadata": {},
   "source": [
    "**Fitting Model Naive Bayes**"
   ]
  },
  {
   "cell_type": "code",
   "execution_count": 53,
   "metadata": {},
   "outputs": [
    {
     "name": "stdout",
     "output_type": "stream",
     "text": [
      "Score Data Train: 0.870\n",
      "Score Data Test: 0.866\n"
     ]
    }
   ],
   "source": [
    "print('Score Data Train: {:.3f}'.format(pipe_nb.score(X_train_encode, y_train)))\n",
    "print('Score Data Test: {:.3f}'.format(pipe_nb.score(X_test_encode, y_test)))"
   ]
  },
  {
   "cell_type": "markdown",
   "metadata": {},
   "source": [
    "**Fitting Model Gradient Boosting Classifier**"
   ]
  },
  {
   "cell_type": "code",
   "execution_count": 54,
   "metadata": {},
   "outputs": [
    {
     "name": "stdout",
     "output_type": "stream",
     "text": [
      "Score Data Train: 0.938\n",
      "Score Data Test: 0.939\n"
     ]
    }
   ],
   "source": [
    "print('Score Data Train: {:.3f}'.format(pipe_gboost.score(X_train_encode, y_train)))\n",
    "print('Score Data Test: {:.3f}'.format(pipe_gboost.score(X_test_encode, y_test)))"
   ]
  },
  {
   "cell_type": "markdown",
   "metadata": {},
   "source": [
    "Dari hasil classification report calon base model, akan saya ambil model dengan nilai recall paling besar dari prediksi satisfied dan juga melihat apakah model tersebut overfitting atau tidak\n",
    "\n",
    "Alasan ini saya buat karena saya ingin model dapat memprediksi value 'Satisfied' (Pelanggan Puas) dengan lebih baik, oleh karena itu model harus bisa menurunkan nilai False Negative, ditandai dengan score recall yang semakin tinggi\n",
    "\n",
    "`False Negative (menurun) = Recall (naik)`\n",
    "\n",
    "Kesimpulan dari evaluasi model:\n",
    "\n",
    "1. Jika melihat dari f1-score, model Decision Tree Classifier dan Random Forest Classifier memiliki score yang sangat tinggi yaitu dengan rata-rata score di atas 0.9. Tetapi jika di lihat dari fitting modelnya, kedua model tersebut mengalami overfitting yang sangat besar perbedaanya antara data train dan test. Sehingga kedua model tersebut saya eleminasi dari calon base model.\n",
    "\n",
    "2. Untuk model Logistic Regression, Naive Bayes dan Gradient Boosting Classifier mari kita lihat, perbandingan nilai dari kedua model tersebut:\n",
    "    * Logistic Regression:\n",
    "        * Recall score value 'Satisfied' : 0.86\n",
    "        * Score Data Train: 0.867\n",
    "        * Score Data Test: 0.864\n",
    "    \n",
    "    * Naive Bayes:\n",
    "        * Recall score value 'Satisfied' : 0.87\n",
    "        * Score Data Train: 0.870\n",
    "        * Score Data Test: 0.866\n",
    "\n",
    "    * Gradient Boosting Classifier:\n",
    "        * Recall score value 'Satisfied' : 0.94\n",
    "        * Score Data Train: 0.938\n",
    "        * Score Data Test: 0.939\n",
    "\n",
    "    Jika dilihat dari pemetaan score dari kedua model tersebut, keduanya masih mungkin untuk menjadi base model dari dataset ini. Dapat dilihat juga dari fit keduanya, walaupun sama-sama mengalami overfitting, namun perbedaan antara train dan test tidak terlalu jauh, hal ini dapat di atas dengan pengerjaan step selanjutnya yaitu dengan melakukan hyperparameter tuning.\n",
    "\n",
    "    Tapi jika kita melihat model Gradient Boosting Classifier. Dengan score recallnya yang sangat besar (0.94) namun modelnya tidak mengalami overfitting sama sekali, bahkan bisa di bilang model ini sangat fit dengan dataset yang ada bisa dilihat dari score antara data train dan test yang hanya memiliki selesih sebesar 0.001 saja.\n",
    "\n",
    "Dari kesimpulan di atas, model yang akan saya jadikan sebagai base model untuk memprediksi satisfaction dari dataset ini adalah model *'Gradient Boosting Classifier'*"
   ]
  },
  {
   "cell_type": "markdown",
   "metadata": {},
   "source": [
    "## Model Improvement - Gradient Boosting Classifier (as a Base Model)"
   ]
  },
  {
   "cell_type": "markdown",
   "metadata": {},
   "source": [
    "Hyperparameter tuning yang saya gunakan adalah dengan mengkombinasikan Grid Search dengan Cross Validation.\n",
    "Parameter dan value acuannya adalah:\n",
    "\n",
    "    * n_estimators : 100,150,200\n",
    "    * min_samples_split : 2,4,10\n",
    "    \n",
    "Parameter-parameter yang saya gunakan dalam optimisasi Model Gradient Boosting Classifier ini karena keterbatasan waktu dan runing modelnya membutuhkan waktu yang sangat lama."
   ]
  },
  {
   "cell_type": "code",
   "execution_count": 55,
   "metadata": {},
   "outputs": [
    {
     "name": "stdout",
     "output_type": "stream",
     "text": [
      "Best Score:  0.95\n",
      "Best Parameter: {'n_estimators': 200, 'min_samples_split': 4}\n"
     ]
    }
   ],
   "source": [
    "best_score = 0\n",
    "for n_estimators in [100,150,200]:\n",
    "      for min_samples_split in [2,4,10]:\n",
    "        gboost_opt = GradientBoostingClassifier(n_estimators = n_estimators, min_samples_split = min_samples_split)                \n",
    "        scores = cross_val_score(gboost_opt, X_train_encode,y_train, cv = 5) # Membagi data train menjadi 5 fold\n",
    "        score = np.mean(scores)\n",
    "        if score > best_score:\n",
    "            best_score = score\n",
    "            best_parameter = {'n_estimators':n_estimators, 'min_samples_split':min_samples_split}\n",
    "\n",
    "print('Best Score: {: .2f}'.format(best_score))\n",
    "print('Best Parameter: {}'.format(best_parameter))"
   ]
  },
  {
   "cell_type": "markdown",
   "metadata": {},
   "source": [
    "Didapatkan best parameter dengan n_estimators adalah 200 dan min_samples_splitnya adalah 4"
   ]
  },
  {
   "cell_type": "code",
   "execution_count": 56,
   "metadata": {},
   "outputs": [
    {
     "data": {
      "text/plain": [
       "GradientBoostingClassifier(min_samples_split=4, n_estimators=200)"
      ]
     },
     "execution_count": 56,
     "metadata": {},
     "output_type": "execute_result"
    }
   ],
   "source": [
    "gboost_opt = GradientBoostingClassifier(**best_parameter)\n",
    "gboost_opt"
   ]
  },
  {
   "cell_type": "code",
   "execution_count": 57,
   "metadata": {},
   "outputs": [],
   "source": [
    "estimator_gboost_opt = [('scaling', MinMaxScaler()),('logreg', gboost_opt)]\n",
    "pipe_gboost_opt = Pipeline(estimator_gboost_opt)"
   ]
  },
  {
   "cell_type": "code",
   "execution_count": 58,
   "metadata": {},
   "outputs": [
    {
     "data": {
      "text/plain": [
       "Pipeline(steps=[('scaling', MinMaxScaler()),\n",
       "                ('logreg',\n",
       "                 GradientBoostingClassifier(min_samples_split=4,\n",
       "                                            n_estimators=200))])"
      ]
     },
     "execution_count": 58,
     "metadata": {},
     "output_type": "execute_result"
    }
   ],
   "source": [
    "pipe_gboost_opt.fit(X_train_encode,y_train)"
   ]
  },
  {
   "cell_type": "code",
   "execution_count": 59,
   "metadata": {},
   "outputs": [],
   "source": [
    "y_pred_gboost_opt = pipe_gboost_opt.predict(X_test_encode)"
   ]
  },
  {
   "cell_type": "code",
   "execution_count": 60,
   "metadata": {},
   "outputs": [
    {
     "name": "stdout",
     "output_type": "stream",
     "text": [
      "                         precision    recall  f1-score   support\n",
      "\n",
      "neutral or dissatisfied       0.97      0.94      0.95     14943\n",
      "              satisfied       0.92      0.95      0.94     11033\n",
      "\n",
      "               accuracy                           0.95     25976\n",
      "              macro avg       0.94      0.95      0.95     25976\n",
      "           weighted avg       0.95      0.95      0.95     25976\n",
      "\n"
     ]
    }
   ],
   "source": [
    "print(classification_report(y_pred_gboost_opt,y_test))"
   ]
  },
  {
   "cell_type": "code",
   "execution_count": 61,
   "metadata": {},
   "outputs": [
    {
     "name": "stdout",
     "output_type": "stream",
     "text": [
      "Score Data Train: 0.947\n",
      "Score Data Test: 0.947\n"
     ]
    }
   ],
   "source": [
    "print('Score Data Train: {:.3f}'.format(pipe_gboost_opt.score(X_train_encode, y_train)))\n",
    "print('Score Data Test: {:.3f}'.format(pipe_gboost_opt.score(X_test_encode, y_test)))"
   ]
  },
  {
   "cell_type": "markdown",
   "metadata": {},
   "source": [
    "Keterangan:\n",
    "Dari proses pendifinisian model dengan best parameter hingga evaluasi model melalui score recall dari value 'satisfied' dan score data train dan test. Model optimisasi ini mengalami peningkatan:\n",
    "1. Recall (0.94 naik menjadi 0.95)\n",
    "2. Score data train dan test hasilnya sama (0.947), menandakan bahwa model ini benar-benar fit untuk memprediksi satisfaction pelanggan suatu airline dari dataset ini."
   ]
  },
  {
   "cell_type": "markdown",
   "metadata": {},
   "source": [
    "## Export Model Gradient Boosting Classifier Hasil Hyperparameter Tuning"
   ]
  },
  {
   "cell_type": "markdown",
   "metadata": {},
   "source": [
    "**Model di simpan dalam file bentuk pickle dengan nama 'model_gboost.pkl'**"
   ]
  },
  {
   "cell_type": "code",
   "execution_count": 62,
   "metadata": {},
   "outputs": [],
   "source": [
    "with open ('model_gboost.pkl', 'wb') as pipe_model:\n",
    "    pickle.dump (pipe_gboost_opt, pipe_model)"
   ]
  },
  {
   "cell_type": "markdown",
   "metadata": {},
   "source": [
    "## Model Inference"
   ]
  },
  {
   "cell_type": "markdown",
   "metadata": {},
   "source": [
    "Extract nama kolom dari data X_test_encode dan menyimpannya dalam variables 'columns_name' dan menjadikannya dataframe kosong pada variable dummy"
   ]
  },
  {
   "cell_type": "code",
   "execution_count": 63,
   "metadata": {},
   "outputs": [
    {
     "data": {
      "text/plain": [
       "Index(['Customer_Type', 'Age', 'Type_of_Travel', 'Class', 'Flight_Distance',\n",
       "       'Inflight_wifi_service', 'Ease_of_Online_booking', 'Online_boarding',\n",
       "       'Seat_comfort', 'Inflight_entertainment', 'On-board_service',\n",
       "       'Leg_room_service', 'Inflight_service', 'Cleanliness'],\n",
       "      dtype='object')"
      ]
     },
     "execution_count": 63,
     "metadata": {},
     "output_type": "execute_result"
    }
   ],
   "source": [
    "X_test_encode.columns"
   ]
  },
  {
   "cell_type": "code",
   "execution_count": 64,
   "metadata": {},
   "outputs": [],
   "source": [
    "columns_name =['Customer_Type', 'Age', 'Type_of_Travel', 'Class', 'Flight_Distance',\n",
    "       'Inflight_wifi_service', 'Ease_of_Online_booking', 'Online_boarding',\n",
    "       'Seat_comfort', 'Inflight_entertainment', 'On-board_service',\n",
    "       'Leg_room_service', 'Inflight_service', 'Cleanliness']\n",
    "dummy = pd.DataFrame(columns = columns_name)"
   ]
  },
  {
   "cell_type": "markdown",
   "metadata": {},
   "source": [
    "Menambahkan baris pada dataframe dengan data-data yang sudah di sesuaikan dengan nama kolom"
   ]
  },
  {
   "cell_type": "code",
   "execution_count": 65,
   "metadata": {},
   "outputs": [],
   "source": [
    "dummy.loc[0]= [1,30,1,1,100,4,4,4,3,3,2,1,4,4]"
   ]
  },
  {
   "cell_type": "code",
   "execution_count": 68,
   "metadata": {},
   "outputs": [
    {
     "data": {
      "text/html": [
       "<div>\n",
       "<style scoped>\n",
       "    .dataframe tbody tr th:only-of-type {\n",
       "        vertical-align: middle;\n",
       "    }\n",
       "\n",
       "    .dataframe tbody tr th {\n",
       "        vertical-align: top;\n",
       "    }\n",
       "\n",
       "    .dataframe thead th {\n",
       "        text-align: right;\n",
       "    }\n",
       "</style>\n",
       "<table border=\"1\" class=\"dataframe\">\n",
       "  <thead>\n",
       "    <tr style=\"text-align: right;\">\n",
       "      <th></th>\n",
       "      <th>Customer_Type</th>\n",
       "      <th>Age</th>\n",
       "      <th>Type_of_Travel</th>\n",
       "      <th>Class</th>\n",
       "      <th>Flight_Distance</th>\n",
       "      <th>Inflight_wifi_service</th>\n",
       "      <th>Ease_of_Online_booking</th>\n",
       "      <th>Online_boarding</th>\n",
       "      <th>Seat_comfort</th>\n",
       "      <th>Inflight_entertainment</th>\n",
       "      <th>On-board_service</th>\n",
       "      <th>Leg_room_service</th>\n",
       "      <th>Inflight_service</th>\n",
       "      <th>Cleanliness</th>\n",
       "    </tr>\n",
       "  </thead>\n",
       "  <tbody>\n",
       "    <tr>\n",
       "      <th>0</th>\n",
       "      <td>1</td>\n",
       "      <td>30</td>\n",
       "      <td>1</td>\n",
       "      <td>1</td>\n",
       "      <td>100</td>\n",
       "      <td>4</td>\n",
       "      <td>4</td>\n",
       "      <td>4</td>\n",
       "      <td>3</td>\n",
       "      <td>3</td>\n",
       "      <td>2</td>\n",
       "      <td>1</td>\n",
       "      <td>4</td>\n",
       "      <td>4</td>\n",
       "    </tr>\n",
       "  </tbody>\n",
       "</table>\n",
       "</div>"
      ],
      "text/plain": [
       "  Customer_Type Age Type_of_Travel Class Flight_Distance  \\\n",
       "0             1  30              1     1             100   \n",
       "\n",
       "  Inflight_wifi_service Ease_of_Online_booking Online_boarding Seat_comfort  \\\n",
       "0                     4                      4               4            3   \n",
       "\n",
       "  Inflight_entertainment On-board_service Leg_room_service Inflight_service  \\\n",
       "0                      3                2                1                4   \n",
       "\n",
       "  Cleanliness  \n",
       "0           4  "
      ]
     },
     "execution_count": 68,
     "metadata": {},
     "output_type": "execute_result"
    }
   ],
   "source": [
    "dummy"
   ]
  },
  {
   "cell_type": "markdown",
   "metadata": {},
   "source": [
    "Memprediksi outputan dataset"
   ]
  },
  {
   "cell_type": "code",
   "execution_count": 66,
   "metadata": {},
   "outputs": [
    {
     "name": "stdout",
     "output_type": "stream",
     "text": [
      "['neutral or dissatisfied']\n"
     ]
    }
   ],
   "source": [
    "dummy_pred = pipe_gboost_opt.predict(dummy)\n",
    "print(dummy_pred)"
   ]
  },
  {
   "cell_type": "markdown",
   "metadata": {},
   "source": [
    "**Ternyata data baris 0 terprediksi bahwa penumpang suatu airline itu netral atau tidak puas dengan layanan maskapai penerbangan**"
   ]
  },
  {
   "cell_type": "markdown",
   "metadata": {},
   "source": [
    "## Analysis"
   ]
  },
  {
   "cell_type": "markdown",
   "metadata": {},
   "source": [
    "### Model Analysis"
   ]
  },
  {
   "cell_type": "markdown",
   "metadata": {},
   "source": [
    "Algoritma supervised learning yang di gunakan dalam melakukan prediksi tingkat satisfaction konsumen airline adalah:\n",
    "\n",
    "    * Logistic Regression\n",
    "    * Decision Tree Classifier\n",
    "    * Random Forest Classifier\n",
    "    * Naive Bayes\n",
    "    * Gradient Boosting Classifier\n",
    "    * Linear Discriminant Analysis\n",
    "\n",
    "Dari semua algoritma diatas. Algoritma terbaik yang digunakan untuk membuat model prediksi dari data ini adalah **Gradient Boosting Classifier**, dengan score recall untuk value 'satisfied' yang sangat tinggi yaitu di angka 0.94, dan fitting modelnya sudah pas, tidak overfitting maupun underfitting.\n",
    "\n",
    "Score data train dan test:\n",
    "\n",
    "    * Score Data Train: 0.938\n",
    "    * Score Data Test: 0.939\n",
    "\n",
    "\n",
    "Kemudian setelah dilakukan hyperparameter tuning pada model **Gradient Boosting Classifier**. Dalam penentuan hyperparameter tuning terbaik di device ini memerlukan waktu kurang lebih sekitar 13 menit, model ini termasuk cukup lama dalam menentukan best parameter dengan jumlah parameter yang di tentukan tidak terlalu banyak.\n",
    "\n",
    "Hasil dari tuning atau optimisasi ini score recall yang sama masih di 0.94, tapi ada peningkatan score di data train dan test\n",
    "\n",
    "    * Score Data Train: 0.947\n",
    "    * Score Data Test: 0.947\n",
    "\n",
    "Jadi kesimpulan dari model **Gradient Boosting Classifier** untuk dataset ini sangat cocok, model dapat membedakan apakah pelanggan nyaman atau tidak dengan sangat akurat. Namun ada hal yang perlu di garis bawahi. Jika kita menambahkan lebih banyak lagi parameter-parameter yang akan di uji selama proses optimisasi, membutuhkan waktu yang sangat lama dan hal ini dapat menjadi pertimbangan dalam pemilihan model dengan melihat situasi dan kondisi dari project yang akan kita gunakan kedepannya.\n",
    "\n",
    "*For your information: saya sudah mencoba melakukan hyper parameter tuning dengan menambahkan beberapa parameter lain dan ternyata setelah 4 jam berlalu, model belum selesai juga menentukan best parameternya. Jika dilihat dari kondisi pengerjaan Milestone 2 yang waktunya tidak banyak, hal ini akan sangat memakan waktu pengerjaan steps lain. Contoh seperti ini bisa menjadi pertimbangan dalam menggunakan model Gradient Boosting Classifier kedepan.*\n"
   ]
  },
  {
   "cell_type": "markdown",
   "metadata": {},
   "source": [
    "### Overall Analysis"
   ]
  },
  {
   "cell_type": "markdown",
   "metadata": {},
   "source": [
    "Kesimpulan yang bisa saya dapatkan dari pengolahan dataset Airline Passenger Satisfaction ini adalah:\n",
    "\n",
    "1. Model 'Gradient Boosting Classifier' menjadi model paling tepat untuk memprediksi bagaimana kenyamanan konsumen terhadap pelayanan Airline.\n",
    "2. Dilihat dari grafik, konsumen yang menggunakan Business Class untuk perjalanan jarak jauh merasa lebih nyaman dengan beberapa alasan yang mendukung seperti fasilitas, kenyamanan dan privacy yang mereka dapatkan selama penerbangan.\n",
    "3. Faktor-faktor krusial lainnya yang membuat konsumen puas atau tidak terhadap layanan Airline, bisa dilihat dari grafik bahwa kualitas tempat duduk , layanan wifi dan fitur online boarding akan menjadi penanda kenyamanan konsumen.\n",
    "\n",
    "Saran yang bisa saya berikan bagi Airline yang ingin meningkatkan kepuasan konsumen dalam menggunakan maskapai mereka dilihat dari data adalah:\n",
    "1. Menekankan promosi-promosi seperti layanan wifi yang maskapai berikan itu 'cepat murah dan stabil'\n",
    "2. Lakukan promosi juga terkait fitur online boarding yang dimiliki di dukung dengan perbaikan platform agar lebih menarik dan semakin intuitif, bukan hanya untuk konsumen kalangan muda tapi juga untuk kalangan dewasa.\n",
    "3. Memancing konsumen untuk melakukan upgrade dari kelas Ekonomi ke Business dengan promosi-promosi seperti untuk penerbangan jauh, konsumen bisa melakukan upgrade dengan diskon besar untuk naik ke kelas Business"
   ]
  }
 ],
 "metadata": {
  "interpreter": {
   "hash": "b3ba2566441a7c06988d0923437866b63cedc61552a5af99d1f4fb67d367b25f"
  },
  "kernelspec": {
   "display_name": "Python 3.8.8 ('base')",
   "language": "python",
   "name": "python3"
  },
  "language_info": {
   "codemirror_mode": {
    "name": "ipython",
    "version": 3
   },
   "file_extension": ".py",
   "mimetype": "text/x-python",
   "name": "python",
   "nbconvert_exporter": "python",
   "pygments_lexer": "ipython3",
   "version": "3.8.8"
  },
  "orig_nbformat": 4
 },
 "nbformat": 4,
 "nbformat_minor": 2
}
